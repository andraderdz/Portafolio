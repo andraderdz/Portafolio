{
  "nbformat": 4,
  "nbformat_minor": 0,
  "metadata": {
    "colab": {
      "name": "Google ML APIs - Dic 2020",
      "provenance": [],
      "collapsed_sections": []
    },
    "kernelspec": {
      "name": "python3",
      "display_name": "Python 3"
    }
  },
  "cells": [
    {
      "cell_type": "markdown",
      "metadata": {
        "id": "q5hOufGZtPb-"
      },
      "source": [
        "# Ricardo D. Andrade Rodríguez, Data Scientist"
      ]
    },
    {
      "cell_type": "markdown",
      "metadata": {
        "id": "zgSg_49a7QRd"
      },
      "source": [
        "\r\n",
        "## 4 Modelos de Machine Learning via Google API\r\n",
        " A continuacón se presentan 4 modelos de Inteligencia Artificial mediante Google API's, los cuales brindan una solución a una infinidad de problemas como **detección de armas, conteo de pasajeros, reconocimiento facial, sugerencia de productos, reconocimiento de voz, reconocimiento de texto.**"
      ]
    },
    {
      "cell_type": "code",
      "metadata": {
        "colab": {
          "base_uri": "https://localhost:8080/",
          "height": 1000
        },
        "id": "3TqWnx1Nq763",
        "collapsed": true,
        "outputId": "91b404e1-8b99-447f-b586-28510e2233ee"
      },
      "source": [
        "# Instalación de librería\r\n",
        "\r\n",
        "!pip install google-cloud-vision"
      ],
      "execution_count": 2,
      "outputs": [
        {
          "output_type": "stream",
          "text": [
            "Collecting google-cloud-vision\n",
            "\u001b[?25l  Downloading https://files.pythonhosted.org/packages/48/38/754771fa9add8acb4ea79367f55ace7ec5c6da4b13226fcdb736b9015a36/google_cloud_vision-2.0.0-py2.py3-none-any.whl (450kB)\n",
            "\u001b[K     |████████████████████████████████| 460kB 11.2MB/s \n",
            "\u001b[?25hCollecting libcst>=0.2.5\n",
            "\u001b[?25l  Downloading https://files.pythonhosted.org/packages/ba/26/a67b3ce61ef35cd9abb1be25ee9b156ea45940903626ed4ea9777700ade4/libcst-0.3.16-py3-none-any.whl (505kB)\n",
            "\u001b[K     |████████████████████████████████| 512kB 21.9MB/s \n",
            "\u001b[?25hCollecting google-api-core[grpc]<2.0.0dev,>=1.22.2\n",
            "\u001b[?25l  Downloading https://files.pythonhosted.org/packages/0f/a4/bbaf2e49d2ddeba5f9532682838775cb63f23ca69594294fa9f717b64c8a/google_api_core-1.24.1-py2.py3-none-any.whl (92kB)\n",
            "\u001b[K     |████████████████████████████████| 92kB 9.6MB/s \n",
            "\u001b[?25hCollecting proto-plus>=1.4.0\n",
            "\u001b[?25l  Downloading https://files.pythonhosted.org/packages/e8/e0/59ad1e6a7d62259027e9b48aedfc95ba63f9336b803d1b174769bcb2c7f9/proto-plus-1.13.0.tar.gz (44kB)\n",
            "\u001b[K     |████████████████████████████████| 51kB 6.3MB/s \n",
            "\u001b[?25hRequirement already satisfied: dataclasses>=0.6.0; python_version < \"3.7\" in /usr/local/lib/python3.6/dist-packages (from libcst>=0.2.5->google-cloud-vision) (0.8)\n",
            "Collecting typing-inspect>=0.4.0\n",
            "  Downloading https://files.pythonhosted.org/packages/42/1c/66402db44184904a2f14722d317a4da0b5c8c78acfc3faf74362566635c5/typing_inspect-0.6.0-py3-none-any.whl\n",
            "Requirement already satisfied: typing-extensions>=3.7.4.2 in /usr/local/lib/python3.6/dist-packages (from libcst>=0.2.5->google-cloud-vision) (3.7.4.3)\n",
            "Collecting pyyaml>=5.2\n",
            "\u001b[?25l  Downloading https://files.pythonhosted.org/packages/64/c2/b80047c7ac2478f9501676c988a5411ed5572f35d1beff9cae07d321512c/PyYAML-5.3.1.tar.gz (269kB)\n",
            "\u001b[K     |████████████████████████████████| 276kB 36.7MB/s \n",
            "\u001b[?25hRequirement already satisfied: pytz in /usr/local/lib/python3.6/dist-packages (from google-api-core[grpc]<2.0.0dev,>=1.22.2->google-cloud-vision) (2018.9)\n",
            "Requirement already satisfied: googleapis-common-protos<2.0dev,>=1.6.0 in /usr/local/lib/python3.6/dist-packages (from google-api-core[grpc]<2.0.0dev,>=1.22.2->google-cloud-vision) (1.52.0)\n",
            "Requirement already satisfied: requests<3.0.0dev,>=2.18.0 in /usr/local/lib/python3.6/dist-packages (from google-api-core[grpc]<2.0.0dev,>=1.22.2->google-cloud-vision) (2.23.0)\n",
            "Collecting google-auth<2.0dev,>=1.21.1\n",
            "\u001b[?25l  Downloading https://files.pythonhosted.org/packages/3e/fd/df1b3a59aca9537a187413651ad63b290d165559150a868a298fa837fe7b/google_auth-1.24.0-py2.py3-none-any.whl (114kB)\n",
            "\u001b[K     |████████████████████████████████| 122kB 37.3MB/s \n",
            "\u001b[?25hRequirement already satisfied: setuptools>=34.0.0 in /usr/local/lib/python3.6/dist-packages (from google-api-core[grpc]<2.0.0dev,>=1.22.2->google-cloud-vision) (51.0.0)\n",
            "Requirement already satisfied: protobuf>=3.12.0 in /usr/local/lib/python3.6/dist-packages (from google-api-core[grpc]<2.0.0dev,>=1.22.2->google-cloud-vision) (3.12.4)\n",
            "Requirement already satisfied: six>=1.13.0 in /usr/local/lib/python3.6/dist-packages (from google-api-core[grpc]<2.0.0dev,>=1.22.2->google-cloud-vision) (1.15.0)\n",
            "Requirement already satisfied: grpcio<2.0dev,>=1.29.0; extra == \"grpc\" in /usr/local/lib/python3.6/dist-packages (from google-api-core[grpc]<2.0.0dev,>=1.22.2->google-cloud-vision) (1.32.0)\n",
            "Collecting mypy-extensions>=0.3.0\n",
            "  Downloading https://files.pythonhosted.org/packages/5c/eb/975c7c080f3223a5cdaff09612f3a5221e4ba534f7039db34c35d95fa6a5/mypy_extensions-0.4.3-py2.py3-none-any.whl\n",
            "Requirement already satisfied: idna<3,>=2.5 in /usr/local/lib/python3.6/dist-packages (from requests<3.0.0dev,>=2.18.0->google-api-core[grpc]<2.0.0dev,>=1.22.2->google-cloud-vision) (2.10)\n",
            "Requirement already satisfied: certifi>=2017.4.17 in /usr/local/lib/python3.6/dist-packages (from requests<3.0.0dev,>=2.18.0->google-api-core[grpc]<2.0.0dev,>=1.22.2->google-cloud-vision) (2020.12.5)\n",
            "Requirement already satisfied: chardet<4,>=3.0.2 in /usr/local/lib/python3.6/dist-packages (from requests<3.0.0dev,>=2.18.0->google-api-core[grpc]<2.0.0dev,>=1.22.2->google-cloud-vision) (3.0.4)\n",
            "Requirement already satisfied: urllib3!=1.25.0,!=1.25.1,<1.26,>=1.21.1 in /usr/local/lib/python3.6/dist-packages (from requests<3.0.0dev,>=2.18.0->google-api-core[grpc]<2.0.0dev,>=1.22.2->google-cloud-vision) (1.24.3)\n",
            "Requirement already satisfied: pyasn1-modules>=0.2.1 in /usr/local/lib/python3.6/dist-packages (from google-auth<2.0dev,>=1.21.1->google-api-core[grpc]<2.0.0dev,>=1.22.2->google-cloud-vision) (0.2.8)\n",
            "Requirement already satisfied: cachetools<5.0,>=2.0.0 in /usr/local/lib/python3.6/dist-packages (from google-auth<2.0dev,>=1.21.1->google-api-core[grpc]<2.0.0dev,>=1.22.2->google-cloud-vision) (4.2.0)\n",
            "Requirement already satisfied: rsa<5,>=3.1.4; python_version >= \"3.6\" in /usr/local/lib/python3.6/dist-packages (from google-auth<2.0dev,>=1.21.1->google-api-core[grpc]<2.0.0dev,>=1.22.2->google-cloud-vision) (4.6)\n",
            "Requirement already satisfied: pyasn1<0.5.0,>=0.4.6 in /usr/local/lib/python3.6/dist-packages (from pyasn1-modules>=0.2.1->google-auth<2.0dev,>=1.21.1->google-api-core[grpc]<2.0.0dev,>=1.22.2->google-cloud-vision) (0.4.8)\n",
            "Building wheels for collected packages: proto-plus, pyyaml\n",
            "  Building wheel for proto-plus (setup.py) ... \u001b[?25l\u001b[?25hdone\n",
            "  Created wheel for proto-plus: filename=proto_plus-1.13.0-cp36-none-any.whl size=41592 sha256=e9e16a601603856c6e9717f9f1b91628cda6d326442a47098bbdc6ce7a428d7e\n",
            "  Stored in directory: /root/.cache/pip/wheels/65/57/45/b5c1c1c29003f3670581d84356fa449e1133da93c15f1de364\n",
            "  Building wheel for pyyaml (setup.py) ... \u001b[?25l\u001b[?25hdone\n",
            "  Created wheel for pyyaml: filename=PyYAML-5.3.1-cp36-cp36m-linux_x86_64.whl size=44621 sha256=f326caa0d2152979e65c353c2391575dd40ef898350f0611fc3309a9235bb035\n",
            "  Stored in directory: /root/.cache/pip/wheels/a7/c1/ea/cf5bd31012e735dc1dfea3131a2d5eae7978b251083d6247bd\n",
            "Successfully built proto-plus pyyaml\n",
            "\u001b[31mERROR: google-colab 1.0.0 has requirement google-auth~=1.17.2, but you'll have google-auth 1.24.0 which is incompatible.\u001b[0m\n",
            "Installing collected packages: mypy-extensions, typing-inspect, pyyaml, libcst, google-auth, google-api-core, proto-plus, google-cloud-vision\n",
            "  Found existing installation: PyYAML 3.13\n",
            "    Uninstalling PyYAML-3.13:\n",
            "      Successfully uninstalled PyYAML-3.13\n",
            "  Found existing installation: google-auth 1.17.2\n",
            "    Uninstalling google-auth-1.17.2:\n",
            "      Successfully uninstalled google-auth-1.17.2\n",
            "  Found existing installation: google-api-core 1.16.0\n",
            "    Uninstalling google-api-core-1.16.0:\n",
            "      Successfully uninstalled google-api-core-1.16.0\n",
            "Successfully installed google-api-core-1.24.1 google-auth-1.24.0 google-cloud-vision-2.0.0 libcst-0.3.16 mypy-extensions-0.4.3 proto-plus-1.13.0 pyyaml-5.3.1 typing-inspect-0.6.0\n"
          ],
          "name": "stdout"
        },
        {
          "output_type": "display_data",
          "data": {
            "application/vnd.colab-display-data+json": {
              "pip_warning": {
                "packages": [
                  "google"
                ]
              }
            }
          },
          "metadata": {
            "tags": []
          }
        }
      ]
    },
    {
      "cell_type": "code",
      "metadata": {
        "id": "nwOgM5qpUbmF"
      },
      "source": [
        "# Uso de librerías\r\n",
        "import os\r\n",
        "from google.cloud import vision\r\n",
        "\r\n",
        "#archivo JSON de credenciales privadas\r\n",
        "os.environ['GOOGLE_APPLICATION_CREDENTIALS'] = '/content/final_credentials.json'\r\n",
        "\r\n",
        "# Iniciación de Cliente\r\n",
        "client = vision.ImageAnnotatorClient()"
      ],
      "execution_count": 5,
      "outputs": []
    },
    {
      "cell_type": "markdown",
      "metadata": {
        "id": "SSZWlLi_1TW7"
      },
      "source": [
        "# 1. Modelo \"Label Detection\" \r\n",
        "\r\n",
        "  La API Vision puede detectar y extraer información sobre las entidades de una imagen en un amplio grupo de categorías. Las etiquetas pueden identificar objetos generales, ubicaciones, actividades, especies de animales, productos\r\n",
        "<br>\r\n",
        "\\\r\n",
        "<img src='https://www.mayantravel.net/wp-content/uploads/2016/02/sala-de-espera-aeropuerto.jpg' width=560 />"
      ]
    },
    {
      "cell_type": "markdown",
      "metadata": {
        "id": "VPenbf43tB4V"
      },
      "source": [
        "## Resultados\r\n",
        "\r\n",
        "Utilizamos la imagen propuesta dentro de nuestra función y obtenemos los siguientes resultados:"
      ]
    },
    {
      "cell_type": "code",
      "metadata": {
        "colab": {
          "base_uri": "https://localhost:8080/"
        },
        "id": "U6nPoVdjWYXX",
        "outputId": "4be37c42-6ef1-4d74-c56d-6b58e0aac026"
      },
      "source": [
        "#Configuración de la url de nuestra imagen \r\n",
        "image = vision.Image()\r\n",
        "image.source.image_uri = 'https://www.mayantravel.net/wp-content/uploads/2016/02/sala-de-espera-aeropuerto.jpg'\r\n",
        "\r\n",
        "## Desarrollo de la función\r\n",
        "\r\n",
        "response_label = client.label_detection(image=image,max_results=50)\r\n",
        "cnt=0\r\n",
        "for label in response_label.label_annotations:\r\n",
        "    cnt+=1\r\n",
        "    print('Etiqueta {}:'.format(cnt), label.description, ' / Score', label.score)"
      ],
      "execution_count": null,
      "outputs": [
        {
          "output_type": "stream",
          "text": [
            "Etiqueta 1: Human body  / Score 0.9687516093254089\n",
            "Etiqueta 2: Glass  / Score 0.9563751816749573\n",
            "Etiqueta 3: Furniture  / Score 0.9504535794258118\n",
            "Etiqueta 4: Airport  / Score 0.948267936706543\n",
            "Etiqueta 5: Aircraft  / Score 0.9134821891784668\n",
            "Etiqueta 6: Fixture  / Score 0.89182049036026\n",
            "Etiqueta 7: Airline  / Score 0.8725823760032654\n",
            "Etiqueta 8: Service  / Score 0.8714537620544434\n",
            "Etiqueta 9: Airliner  / Score 0.8663744926452637\n",
            "Etiqueta 10: Air travel  / Score 0.8559592366218567\n",
            "Etiqueta 11: Daylighting  / Score 0.8507030010223389\n",
            "Etiqueta 12: Waiting room  / Score 0.7968969345092773\n",
            "Etiqueta 13: Armrest  / Score 0.7583527565002441\n",
            "Etiqueta 14: Airplane  / Score 0.7215019464492798\n",
            "Etiqueta 15: Outdoor furniture  / Score 0.7051551938056946\n",
            "Etiqueta 16: Aviation  / Score 0.6997416019439697\n",
            "Etiqueta 17: Aerospace manufacturer  / Score 0.596397876739502\n",
            "Etiqueta 18: Airport terminal  / Score 0.586058497428894\n",
            "Etiqueta 19: Backpack  / Score 0.5841081738471985\n",
            "Etiqueta 20: Jet aircraft  / Score 0.5610508322715759\n",
            "Etiqueta 21: Coffee table  / Score 0.5301058292388916\n"
          ],
          "name": "stdout"
        }
      ]
    },
    {
      "cell_type": "markdown",
      "metadata": {
        "id": "ifFeQz8fIqxv"
      },
      "source": [
        "# 2. Modelo \"Object Detection\" \r\n",
        "\r\n",
        "La ubicación de objetos permite identificar varios objetos en una imagen y proporciona información sobre el objeto, la posición del objeto y los límites rectangulares de la región de la imagen que contiene el objeto.\r\n",
        "\r\n",
        "\\\r\n",
        "<img src='https://cloud.google.com/vision/docs/images/bicycle.jpg' width=560 />\r\n"
      ]
    },
    {
      "cell_type": "code",
      "metadata": {
        "id": "FYtXIr7oWYPY"
      },
      "source": [
        "## Desarrollo de la función\r\n",
        "\r\n",
        "def localize_objects_uri(uri):\r\n",
        "    \"\"\" Localize objects in the image on Google Cloud Storage\r\n",
        "\r\n",
        "    Args:\r\n",
        "    uri: The path to the file in Google Cloud Storage (gs://...)\r\n",
        "    \"\"\"\r\n",
        "    from google.cloud import vision\r\n",
        "    client = vision.ImageAnnotatorClient()\r\n",
        "\r\n",
        "    image = vision.Image()\r\n",
        "    image.source.image_uri = uri\r\n",
        "\r\n",
        "    objects = client.object_localization(\r\n",
        "        image=image,max_results=50).localized_object_annotations\r\n",
        "\r\n",
        "    print('Numbero de Objetos encontrados: {}'.format(len(objects)))\r\n",
        "    for object_ in objects:\r\n",
        "        print('\\n{} (confidence: {})'.format(object_.name, object_.score))\r\n",
        "        print('Vértices normalizados del objeto: ')\r\n",
        "        for vertex in object_.bounding_poly.normalized_vertices:\r\n",
        "            print(' - ({}, {})'.format(vertex.x, vertex.y))"
      ],
      "execution_count": null,
      "outputs": []
    },
    {
      "cell_type": "markdown",
      "metadata": {
        "id": "X3NxWUn7pkn7"
      },
      "source": [
        "## Resultados\r\n",
        "\r\n",
        "Utilizamos la imagen propuesta dentro de nuestra función y obtenemos los siguientes objetos detectados:\r\n"
      ]
    },
    {
      "cell_type": "code",
      "metadata": {
        "colab": {
          "base_uri": "https://localhost:8080/"
        },
        "id": "NMEnsnAS5Ep2",
        "outputId": "20cdb934-cce5-41b7-d0cd-905742cae61f"
      },
      "source": [
        "img = 'https://cloud.google.com/vision/docs/images/bicycle.jpg'\r\n",
        "localize_objects_uri(img)"
      ],
      "execution_count": null,
      "outputs": [
        {
          "output_type": "stream",
          "text": [
            "Numbero de Objetos encontrados: 4\n",
            "\n",
            "Bicycle wheel (confidence: 0.8995329141616821)\n",
            "Vértices normalizados del objeto: \n",
            " - (0.31734737753868103, 0.7904391884803772)\n",
            " - (0.4459078311920166, 0.7904391884803772)\n",
            " - (0.4459078311920166, 0.9731102585792542)\n",
            " - (0.31734737753868103, 0.9731102585792542)\n",
            "\n",
            "Bicycle wheel (confidence: 0.8842337131500244)\n",
            "Vértices normalizados del objeto: \n",
            " - (0.5012580752372742, 0.7649986743927002)\n",
            " - (0.628057062625885, 0.7649986743927002)\n",
            " - (0.628057062625885, 0.9458420276641846)\n",
            " - (0.5012580752372742, 0.9458420276641846)\n",
            "\n",
            "Bicycle (confidence: 0.7549649477005005)\n",
            "Vértices normalizados del objeto: \n",
            " - (0.3197494149208069, 0.6697990894317627)\n",
            " - (0.6358612775802612, 0.6697990894317627)\n",
            " - (0.6358612775802612, 0.9711346626281738)\n",
            " - (0.3197494149208069, 0.9711346626281738)\n",
            "\n",
            "Picture frame (confidence: 0.6432014107704163)\n",
            "Vértices normalizados del objeto: \n",
            " - (0.7880365252494812, 0.15778371691703796)\n",
            " - (0.9710407853126526, 0.15778371691703796)\n",
            " - (0.9710407853126526, 0.31204989552497864)\n",
            " - (0.7880365252494812, 0.31204989552497864)\n"
          ],
          "name": "stdout"
        }
      ]
    },
    {
      "cell_type": "markdown",
      "metadata": {
        "id": "bp0XBRn8Mbb_"
      },
      "source": [
        "# 3. Modelo \"Face Detection\" \r\n",
        "\r\n",
        "La detección de rostro detecta varios rostros en una imagen junto con los atributos faciales clave asociados, como el estado emocional.\r\n",
        "\r\n",
        "\\\r\n",
        "<img src='https://st.depositphotos.com/3243153/5134/i/600/depositphotos_51343879-stock-photo-family-at-the-airport.jpg' width=560 />\r\n"
      ]
    },
    {
      "cell_type": "code",
      "metadata": {
        "id": "4cmmYXHOa_EQ"
      },
      "source": [
        "# Función de Detección\r\n",
        "\r\n",
        "def detect_faces_uri(uri):\r\n",
        "    \"\"\"Detects faces in the file located in Google Cloud Storage or the web.\"\"\"\r\n",
        "    from google.cloud import vision\r\n",
        "    client = vision.ImageAnnotatorClient()\r\n",
        "    image = vision.Image()\r\n",
        "    image.source.image_uri = uri\r\n",
        "\r\n",
        "    response = client.face_detection(image=image)\r\n",
        "    faces = response.face_annotations\r\n",
        "\r\n",
        "    # Names of likelihood from google.cloud.vision.enums\r\n",
        "    likelihood_name = ('UNKNOWN', 'VERY_UNLIKELY', 'UNLIKELY', 'POSSIBLE',\r\n",
        "                       'LIKELY', 'VERY_LIKELY')\r\n",
        "    \r\n",
        "    print('Number of faces found: {}'.format(len(faces)))\r\n",
        "    if len(faces)>0 :\r\n",
        "       cnt = 0\r\n",
        "    for face in faces:\r\n",
        "        cnt += 1\r\n",
        "        print('Rostro ', cnt, '--------------------------------------------')\r\n",
        "        print('Tristeza: {}'.format(likelihood_name[face.sorrow_likelihood]),'/ Score: {}'.format(face.sorrow_likelihood))\r\n",
        "        print('Molesto: {}'.format(likelihood_name[face.anger_likelihood]),'/ Score: {}'.format(face.anger_likelihood))\r\n",
        "        print('Felicidad: {} '.format(likelihood_name[face.joy_likelihood]),'/ Score: {}'.format(face.joy_likelihood))\r\n",
        "        print('Sopresa: {}'.format(likelihood_name[face.surprise_likelihood]),'/ Score: {}'.format(face.surprise_likelihood))\r\n",
        "        vertices = (['({},{})'.format(vertex.x, vertex.y)\r\n",
        "                    for vertex in face.bounding_poly.vertices])\r\n",
        "        print('Límites del Rostro detectado: {}'.format(','.join(vertices)))\r\n",
        "        print(' ')\r\n",
        "    if response.error.message:\r\n",
        "        raise Exception(\r\n",
        "            '{}\\nFor more info on error messages, check: '\r\n",
        "            'https://cloud.google.com/apis/design/errors'.format(\r\n",
        "                response.error.message))"
      ],
      "execution_count": null,
      "outputs": []
    },
    {
      "cell_type": "markdown",
      "metadata": {
        "id": "OXqk7pfgpJpn"
      },
      "source": [
        "## Resultados\r\n",
        "\r\n",
        "Utilizamos la imagen propuesta dentro de nuestra función y obtenemos los \r\n",
        "siguientes resultados:\r\n"
      ]
    },
    {
      "cell_type": "code",
      "metadata": {
        "colab": {
          "base_uri": "https://localhost:8080/"
        },
        "id": "zS7qAHQKcffs",
        "outputId": "a5493c57-35e4-42f5-8a5f-28e2c14107b9"
      },
      "source": [
        "img = 'https://st.depositphotos.com/3243153/5134/i/600/depositphotos_51343879-stock-photo-family-at-the-airport.jpg'\r\n",
        "detect_faces_uri(img)"
      ],
      "execution_count": null,
      "outputs": [
        {
          "output_type": "stream",
          "text": [
            "Number of faces found: 5\n",
            "Rostro  1 --------------------------------------------\n",
            "Tristeza: VERY_UNLIKELY / Score: 1\n",
            "Molesto: VERY_UNLIKELY / Score: 1\n",
            "Felicidad: VERY_LIKELY  / Score: 5\n",
            "Sopresa: VERY_UNLIKELY / Score: 1\n",
            "Límites del Rostro detectado: (86,149),(134,149),(134,205),(86,205)\n",
            " \n",
            "Rostro  2 --------------------------------------------\n",
            "Tristeza: VERY_UNLIKELY / Score: 1\n",
            "Molesto: VERY_UNLIKELY / Score: 1\n",
            "Felicidad: LIKELY  / Score: 4\n",
            "Sopresa: VERY_UNLIKELY / Score: 1\n",
            "Límites del Rostro detectado: (219,89),(270,89),(270,148),(219,148)\n",
            " \n",
            "Rostro  3 --------------------------------------------\n",
            "Tristeza: VERY_UNLIKELY / Score: 1\n",
            "Molesto: VERY_UNLIKELY / Score: 1\n",
            "Felicidad: VERY_LIKELY  / Score: 5\n",
            "Sopresa: VERY_UNLIKELY / Score: 1\n",
            "Límites del Rostro detectado: (299,107),(345,107),(345,161),(299,161)\n",
            " \n",
            "Rostro  4 --------------------------------------------\n",
            "Tristeza: VERY_UNLIKELY / Score: 1\n",
            "Molesto: VERY_UNLIKELY / Score: 1\n",
            "Felicidad: VERY_UNLIKELY  / Score: 1\n",
            "Sopresa: VERY_UNLIKELY / Score: 1\n",
            "Límites del Rostro detectado: (357,140),(386,140),(386,174),(357,174)\n",
            " \n",
            "Rostro  5 --------------------------------------------\n",
            "Tristeza: VERY_UNLIKELY / Score: 1\n",
            "Molesto: VERY_UNLIKELY / Score: 1\n",
            "Felicidad: VERY_UNLIKELY  / Score: 1\n",
            "Sopresa: VERY_UNLIKELY / Score: 1\n",
            "Límites del Rostro detectado: (196,126),(229,126),(229,164),(196,164)\n",
            " \n"
          ],
          "name": "stdout"
        }
      ]
    },
    {
      "cell_type": "markdown",
      "metadata": {
        "id": "eKKxP8NtRz7O"
      },
      "source": [
        "# 4. Model \"Text Detection\" \r\n",
        "\r\n",
        "Desarrollo de una API para detectar y extraer texto de las imágenes.\r\n",
        "\r\n",
        "\\\r\n",
        "<img src='https://www.outwithryan.com/wp-content/uploads/2019/03/IMG_0595-2-1200x899.jpg' width=560 />"
      ]
    },
    {
      "cell_type": "code",
      "metadata": {
        "id": "q-MY0PrpSj8j"
      },
      "source": [
        "# Desarrollo de la Función\r\n",
        "\r\n",
        "def detect_text_uri(uri):\r\n",
        "    from google.cloud import vision\r\n",
        "    client = vision.ImageAnnotatorClient()\r\n",
        "    image = vision.Image()\r\n",
        "    image.source.image_uri = uri\r\n",
        "\r\n",
        "    response = client.text_detection(image=image)\r\n",
        "    texts = response.text_annotations\r\n",
        "    print('Texto:')\r\n",
        "\r\n",
        "    for text in texts:\r\n",
        "        print('\\n\"{}\"'.format(text.description))\r\n",
        "\r\n",
        "        vertices = (['({},{})'.format(vertex.x, vertex.y)\r\n",
        "                    for vertex in text.bounding_poly.vertices])\r\n",
        "\r\n",
        "        print('bounds: {}'.format(','.join(vertices)))\r\n",
        "\r\n",
        "    if response.error.message:\r\n",
        "        raise Exception(\r\n",
        "            '{}\\nFor more info on error messages, check: '\r\n",
        "            'https://cloud.google.com/apis/design/errors'.format(\r\n",
        "                response.error.message))"
      ],
      "execution_count": 6,
      "outputs": []
    },
    {
      "cell_type": "markdown",
      "metadata": {
        "id": "TdRC3K5QtXjz"
      },
      "source": [
        "## Resultados\r\n",
        "\r\n",
        "Utilizamos la imagen propuesta dentro de nuestra función y obtenemos la siguiente de-codificación de texto donde podemos extraer: \r\n",
        "\r\n",
        "\r\n",
        "*   Nombre del pasajero\r\n",
        "*   Origen / Destino\r\n",
        "*   Fechas\r\n",
        "*   Número de asiento\r\n",
        "*   Número de vuelo\r\n",
        "*   Etc.\r\n",
        "\r\n",
        "\r\n"
      ]
    },
    {
      "cell_type": "code",
      "metadata": {
        "colab": {
          "base_uri": "https://localhost:8080/"
        },
        "id": "QcuCPW7SSlsb",
        "outputId": "503fa27d-949e-4a9d-db87-525c4fb91bd1"
      },
      "source": [
        "img = 'https://www.outwithryan.com/wp-content/uploads/2019/03/IMG_0595-2-1200x899.jpg'\r\n",
        "results = detect_text_uri(img)"
      ],
      "execution_count": 7,
      "outputs": [
        {
          "output_type": "stream",
          "text": [
            "Texto:\n",
            "\n",
            "\"2HE\n",
            "WOODS RYAN\n",
            "ZONE\n",
            "STANDARD ECONOMY/ECONOMIQUE STANDARD\n",
            "ETKT0142104953947\n",
            "Frequent Flyer/Voyageur assidu\n",
            "Cabin/Cabine\n",
            "Flight/Vol\n",
            "Date\n",
            "From/De\n",
            "Destination\n",
            "Flight/Vol\n",
            "* 443 21FEB/FEV OTTAWA\n",
            "TORONTO\n",
            "443\n",
            "TORONTO\n",
            "Seat/Place\n",
            "Boarding Time/Heure d'embarquenent 07: 30Gate/Porte 16 seat/ace.\n",
            "GTE GTE\n",
            "Remarks/Observations\n",
            "08: 00\n",
            "Departure Tine/Heure de depart\n",
            "0080 YOW024516\n",
            "Airline Use/A usage interne\n",
            "A STAR ALLIANCE MEMBER\n",
            "JRESEAU STAR ALLIANCE\n",
            "Boarding Pass | Carte d'accès à bord\n",
            "\"\n",
            "bounds: (27,202),(1101,202),(1101,678),(27,678)\n",
            "\n",
            "\"2HE\"\n",
            "bounds: (416,204),(579,202),(580,279),(417,281)\n",
            "\n",
            "\"WOODS\"\n",
            "bounds: (65,207),(149,209),(148,232),(64,230)\n",
            "\n",
            "\"RYAN\"\n",
            "bounds: (169,208),(233,209),(232,232),(168,231)\n",
            "\n",
            "\"ZONE\"\n",
            "bounds: (906,210),(971,210),(971,233),(906,233)\n",
            "\n",
            "\"STANDARD\"\n",
            "bounds: (66,269),(146,270),(146,287),(66,286)\n",
            "\n",
            "\"ECONOMY/ECONOMIQUE\"\n",
            "bounds: (158,270),(335,272),(335,289),(158,287)\n",
            "\n",
            "\"STANDARD\"\n",
            "bounds: (347,272),(423,273),(423,290),(347,289)\n",
            "\n",
            "\"ETKT0142104953947\"\n",
            "bounds: (66,296),(347,299),(347,316),(66,313)\n",
            "\n",
            "\"Frequent\"\n",
            "bounds: (557,278),(630,277),(630,296),(557,297)\n",
            "\n",
            "\"Flyer/Voyageur\"\n",
            "bounds: (643,276),(777,275),(777,297),(643,298)\n",
            "\n",
            "\"assidu\"\n",
            "bounds: (789,276),(847,275),(847,292),(789,293)\n",
            "\n",
            "\"Cabin/Cabine\"\n",
            "bounds: (884,276),(1003,276),(1003,295),(884,295)\n",
            "\n",
            "\"Flight/Vol\"\n",
            "bounds: (59,342),(156,343),(156,364),(59,363)\n",
            "\n",
            "\"Date\"\n",
            "bounds: (208,346),(247,346),(247,361),(208,361)\n",
            "\n",
            "\"From/De\"\n",
            "bounds: (369,347),(436,348),(436,365),(369,364)\n",
            "\n",
            "\"Destination\"\n",
            "bounds: (639,349),(742,349),(742,364),(639,364)\n",
            "\n",
            "\"Flight/Vol\"\n",
            "bounds: (881,348),(975,348),(975,369),(881,369)\n",
            "\n",
            "\"*\"\n",
            "bounds: (118,374),(138,374),(138,407),(118,407)\n",
            "\n",
            "\"443\"\n",
            "bounds: (136,377),(183,377),(183,399),(136,399)\n",
            "\n",
            "\"21FEB/FEV\"\n",
            "bounds: (205,378),(352,378),(352,402),(205,402)\n",
            "\n",
            "\"OTTAWA\"\n",
            "bounds: (373,379),(470,379),(470,401),(373,401)\n",
            "\n",
            "\"TORONTO\"\n",
            "bounds: (650,380),(760,381),(760,404),(650,403)\n",
            "\n",
            "\"443\"\n",
            "bounds: (965,382),(1011,382),(1011,405),(965,405)\n",
            "\n",
            "\"TORONTO\"\n",
            "bounds: (889,404),(1011,407),(1010,432),(888,429)\n",
            "\n",
            "\"Seat/Place\"\n",
            "bounds: (877,440),(974,440),(974,457),(877,457)\n",
            "\n",
            "\"Boarding\"\n",
            "bounds: (46,469),(128,469),(128,489),(46,489)\n",
            "\n",
            "\"Time/Heure\"\n",
            "bounds: (142,469),(242,468),(242,485),(142,486)\n",
            "\n",
            "\"d'embarquenent\"\n",
            "bounds: (255,470),(391,469),(391,487),(255,488)\n",
            "\n",
            "\"07:\"\n",
            "bounds: (424,464),(460,464),(460,481),(424,481)\n",
            "\n",
            "\"30Gate/Porte\"\n",
            "bounds: (473,463),(598,462),(598,484),(473,485)\n",
            "\n",
            "\"16\"\n",
            "bounds: (636,463),(662,463),(662,481),(636,481)\n",
            "\n",
            "\"seat/ace.\"\n",
            "bounds: (682,464),(780,463),(780,486),(682,487)\n",
            "\n",
            "\"GTE\"\n",
            "bounds: (813,459),(862,459),(862,486),(813,486)\n",
            "\n",
            "\"GTE\"\n",
            "bounds: (894,460),(939,460),(939,487),(894,487)\n",
            "\n",
            "\"Remarks/Observations\"\n",
            "bounds: (875,494),(1068,496),(1068,512),(875,510)\n",
            "\n",
            "\"08:\"\n",
            "bounds: (389,520),(412,520),(412,535),(389,535)\n",
            "\n",
            "\"00\"\n",
            "bounds: (419,520),(436,520),(436,535),(419,535)\n",
            "\n",
            "\"Departure\"\n",
            "bounds: (41,526),(136,525),(136,545),(41,546)\n",
            "\n",
            "\"Tine/Heure\"\n",
            "bounds: (149,526),(250,525),(250,542),(149,543)\n",
            "\n",
            "\"de\"\n",
            "bounds: (263,525),(281,525),(281,541),(263,541)\n",
            "\n",
            "\"depart\"\n",
            "bounds: (294,525),(351,525),(351,545),(294,545)\n",
            "\n",
            "\"0080\"\n",
            "bounds: (355,575),(392,574),(392,590),(355,591)\n",
            "\n",
            "\"YOW024516\"\n",
            "bounds: (405,575),(491,574),(491,591),(405,592)\n",
            "\n",
            "\"Airline\"\n",
            "bounds: (35,583),(111,582),(111,599),(35,600)\n",
            "\n",
            "\"Use/A\"\n",
            "bounds: (124,583),(175,582),(175,599),(124,600)\n",
            "\n",
            "\"usage\"\n",
            "bounds: (188,586),(238,585),(238,601),(188,602)\n",
            "\n",
            "\"interne\"\n",
            "bounds: (251,581),(320,580),(320,597),(251,598)\n",
            "\n",
            "\"A\"\n",
            "bounds: (939,638),(947,638),(947,649),(939,649)\n",
            "\n",
            "\"STAR\"\n",
            "bounds: (945,640),(976,640),(976,649),(945,649)\n",
            "\n",
            "\"ALLIANCE\"\n",
            "bounds: (983,638),(1045,639),(1045,651),(983,650)\n",
            "\n",
            "\"MEMBER\"\n",
            "bounds: (1045,642),(1101,642),(1101,650),(1045,650)\n",
            "\n",
            "\"JRESEAU\"\n",
            "bounds: (950,653),(999,654),(999,664),(950,663)\n",
            "\n",
            "\"STAR\"\n",
            "bounds: (1004,655),(1034,656),(1034,664),(1004,663)\n",
            "\n",
            "\"ALLIANCE\"\n",
            "bounds: (1040,655),(1099,656),(1099,665),(1040,664)\n",
            "\n",
            "\"Boarding\"\n",
            "bounds: (27,657),(122,654),(123,675),(28,678)\n",
            "\n",
            "\"Pass\"\n",
            "bounds: (131,655),(172,654),(172,669),(131,670)\n",
            "\n",
            "\"|\"\n",
            "bounds: (187,651),(196,651),(197,673),(188,673)\n",
            "\n",
            "\"Carte\"\n",
            "bounds: (195,654),(250,652),(250,666),(195,668)\n",
            "\n",
            "\"d'accès\"\n",
            "bounds: (257,650),(344,647),(344,664),(258,667)\n",
            "\n",
            "\"à\"\n",
            "bounds: (346,646),(357,646),(358,668),(347,668)\n",
            "\n",
            "\"bord\"\n",
            "bounds: (353,648),(397,647),(398,664),(354,665)\n"
          ],
          "name": "stdout"
        }
      ]
    }
  ]
}
